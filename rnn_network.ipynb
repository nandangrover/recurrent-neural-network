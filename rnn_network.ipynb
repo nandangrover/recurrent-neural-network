{
  "nbformat": 4,
  "nbformat_minor": 0,
  "metadata": {
    "accelerator": "GPU",
    "colab": {
      "provenance": [],
      "collapsed_sections": []
    },
    "kernelspec": {
      "display_name": "Python 3",
      "language": "python",
      "name": "python3"
    },
    "language_info": {
      "codemirror_mode": {
        "name": "ipython",
        "version": 3
      },
      "file_extension": ".py",
      "mimetype": "text/x-python",
      "name": "python",
      "nbconvert_exporter": "python",
      "pygments_lexer": "ipython3",
      "version": "3.6.2"
    }
  },
  "cells": [
    {
      "cell_type": "markdown",
      "metadata": {
        "id": "a_9-wPObneIB"
      },
      "source": [
        "**Load Data from your Google Drive**"
      ]
    },
    {
      "cell_type": "code",
      "metadata": {
        "id": "FVTeqWNH3HGS",
        "colab": {
          "base_uri": "https://localhost:8080/"
        },
        "outputId": "4e628541-843e-42b5-dfd6-d907a905600f"
      },
      "source": [
        "from google.colab import drive \n",
        "drive.mount('/content/gdrive')"
      ],
      "execution_count": 1,
      "outputs": [
        {
          "output_type": "stream",
          "name": "stdout",
          "text": [
            "Mounted at /content/gdrive\n"
          ]
        }
      ]
    },
    {
      "cell_type": "markdown",
      "metadata": {
        "id": "ZvFK1torNnUc"
      },
      "source": [
        "Enter the folder including csv files."
      ]
    },
    {
      "cell_type": "markdown",
      "metadata": {
        "id": "vxFYaIyDnaMb"
      },
      "source": [
        "#**Part 1 - Data Preprocessing**\n",
        "\n",
        "First, we import required libraries, **numpy**, **matplotlib.pyplot**, and **pandas**."
      ]
    },
    {
      "cell_type": "code",
      "metadata": {
        "id": "h9zwszmUzEgT"
      },
      "source": [
        "import numpy as np \n",
        "import matplotlib.pyplot as plt\n",
        "import pandas as pd\n",
        "from sklearn.metrics import confusion_matrix\n",
        "import tensorflow as tf\n",
        "from tensorflow import keras\n",
        "from keras.models import Sequential\n",
        "from keras.layers import Dense, LSTM, Dropout\n",
        "import matplotlib.pyplot as pltdef\n",
        "import itertools\n",
        "from sklearn.metrics import RocCurveDisplay\n",
        "\n",
        "tf.random.set_seed(1234)"
      ],
      "execution_count": 2,
      "outputs": []
    },
    {
      "cell_type": "markdown",
      "metadata": {
        "id": "HSoCmGD1n9CT"
      },
      "source": [
        "Import the training dataset. Hint: use **read_csv** from Pandas library. "
      ]
    },
    {
      "cell_type": "code",
      "metadata": {
        "id": "BgxRv0qN3meR"
      },
      "source": [
        "dataset_train = pd.read_csv('gdrive/MyDrive/data/ECG_dataset/trainval.csv')\n",
        "# dataset_valid = pd.read_csv('gdrive/MyDrive/data/ECG_dataset/train.csv')\n",
        "dataset_test = pd.read_csv('gdrive/MyDrive/data/ECG_dataset/test.csv')"
      ],
      "execution_count": 3,
      "outputs": []
    },
    {
      "cell_type": "markdown",
      "metadata": {
        "id": "t9-vxr5ZqTo6"
      },
      "source": [
        "Show the training dataset by using **head** method."
      ]
    },
    {
      "cell_type": "code",
      "metadata": {
        "colab": {
          "base_uri": "https://localhost:8080/",
          "height": 300
        },
        "id": "Pw-T9hrSpSru",
        "outputId": "523b38d2-cd5a-4a99-eb29-d001bc2eda88"
      },
      "source": [
        "# Put your codes here\n",
        "dataset_train.head()"
      ],
      "execution_count": 4,
      "outputs": [
        {
          "output_type": "execute_result",
          "data": {
            "text/plain": [
              "   1  0.024133  0.016065  0.044639  0.031001  -0.009473  -0.042663  -0.077283  \\\n",
              "0  0   0.42438   0.34442  0.348130  0.340170   0.243370   0.241730   0.268780   \n",
              "1  0   1.52950   1.77660  1.936700  1.840200   1.800000   1.724900   1.405800   \n",
              "2  0   1.28650   1.04990  0.793600  0.473590   0.111730  -0.054857  -0.062095   \n",
              "3  1  -0.17540  -0.12192 -0.053532 -0.024293   0.022917   0.116440   0.187040   \n",
              "4  0   0.17394   0.14885  0.178910  0.237310   0.276120   0.398650   0.463010   \n",
              "\n",
              "   -0.091508  -0.046113999999999995  ...  0.051275  0.06124400000000001  \\\n",
              "0    0.27342                0.35644  ...  0.526440             0.559020   \n",
              "1    1.00880                0.72472  ...  0.169600             0.126170   \n",
              "2   -0.12075               -0.10301  ...  0.966370             1.106500   \n",
              "3    0.24071                0.31434  ... -0.234150            -0.248470   \n",
              "4    0.47182                0.55540  ...  0.046535             0.001148   \n",
              "\n",
              "   0.053409000000000005   0.12092  0.081996  0.039526  0.073486  0.020875  \\\n",
              "0               0.55567  0.597270  0.570760   0.46749   0.46340   0.48188   \n",
              "1               0.25830  0.238590  0.465590   0.64028   0.72765   0.86787   \n",
              "2               1.09190  1.302600  1.572700   1.73370   1.74060   1.71170   \n",
              "3              -0.17759 -0.223010 -0.277270  -0.23328  -0.25261  -0.26422   \n",
              "4              -0.00753  0.008211 -0.028456   0.04728   0.10666   0.16788   \n",
              "\n",
              "   -0.018836000000000002  0.030808999999999996  \n",
              "0                0.43219               0.39453  \n",
              "1                1.05860               1.29530  \n",
              "2                1.57930               1.51410  \n",
              "3               -0.17639              -0.15493  \n",
              "4                0.10543               0.20467  \n",
              "\n",
              "[5 rows x 141 columns]"
            ],
            "text/html": [
              "\n",
              "  <div id=\"df-4371b951-e784-46ce-9305-58ca48bfa162\">\n",
              "    <div class=\"colab-df-container\">\n",
              "      <div>\n",
              "<style scoped>\n",
              "    .dataframe tbody tr th:only-of-type {\n",
              "        vertical-align: middle;\n",
              "    }\n",
              "\n",
              "    .dataframe tbody tr th {\n",
              "        vertical-align: top;\n",
              "    }\n",
              "\n",
              "    .dataframe thead th {\n",
              "        text-align: right;\n",
              "    }\n",
              "</style>\n",
              "<table border=\"1\" class=\"dataframe\">\n",
              "  <thead>\n",
              "    <tr style=\"text-align: right;\">\n",
              "      <th></th>\n",
              "      <th>1</th>\n",
              "      <th>0.024133</th>\n",
              "      <th>0.016065</th>\n",
              "      <th>0.044639</th>\n",
              "      <th>0.031001</th>\n",
              "      <th>-0.009473</th>\n",
              "      <th>-0.042663</th>\n",
              "      <th>-0.077283</th>\n",
              "      <th>-0.091508</th>\n",
              "      <th>-0.046113999999999995</th>\n",
              "      <th>...</th>\n",
              "      <th>0.051275</th>\n",
              "      <th>0.06124400000000001</th>\n",
              "      <th>0.053409000000000005</th>\n",
              "      <th>0.12092</th>\n",
              "      <th>0.081996</th>\n",
              "      <th>0.039526</th>\n",
              "      <th>0.073486</th>\n",
              "      <th>0.020875</th>\n",
              "      <th>-0.018836000000000002</th>\n",
              "      <th>0.030808999999999996</th>\n",
              "    </tr>\n",
              "  </thead>\n",
              "  <tbody>\n",
              "    <tr>\n",
              "      <th>0</th>\n",
              "      <td>0</td>\n",
              "      <td>0.42438</td>\n",
              "      <td>0.34442</td>\n",
              "      <td>0.348130</td>\n",
              "      <td>0.340170</td>\n",
              "      <td>0.243370</td>\n",
              "      <td>0.241730</td>\n",
              "      <td>0.268780</td>\n",
              "      <td>0.27342</td>\n",
              "      <td>0.35644</td>\n",
              "      <td>...</td>\n",
              "      <td>0.526440</td>\n",
              "      <td>0.559020</td>\n",
              "      <td>0.55567</td>\n",
              "      <td>0.597270</td>\n",
              "      <td>0.570760</td>\n",
              "      <td>0.46749</td>\n",
              "      <td>0.46340</td>\n",
              "      <td>0.48188</td>\n",
              "      <td>0.43219</td>\n",
              "      <td>0.39453</td>\n",
              "    </tr>\n",
              "    <tr>\n",
              "      <th>1</th>\n",
              "      <td>0</td>\n",
              "      <td>1.52950</td>\n",
              "      <td>1.77660</td>\n",
              "      <td>1.936700</td>\n",
              "      <td>1.840200</td>\n",
              "      <td>1.800000</td>\n",
              "      <td>1.724900</td>\n",
              "      <td>1.405800</td>\n",
              "      <td>1.00880</td>\n",
              "      <td>0.72472</td>\n",
              "      <td>...</td>\n",
              "      <td>0.169600</td>\n",
              "      <td>0.126170</td>\n",
              "      <td>0.25830</td>\n",
              "      <td>0.238590</td>\n",
              "      <td>0.465590</td>\n",
              "      <td>0.64028</td>\n",
              "      <td>0.72765</td>\n",
              "      <td>0.86787</td>\n",
              "      <td>1.05860</td>\n",
              "      <td>1.29530</td>\n",
              "    </tr>\n",
              "    <tr>\n",
              "      <th>2</th>\n",
              "      <td>0</td>\n",
              "      <td>1.28650</td>\n",
              "      <td>1.04990</td>\n",
              "      <td>0.793600</td>\n",
              "      <td>0.473590</td>\n",
              "      <td>0.111730</td>\n",
              "      <td>-0.054857</td>\n",
              "      <td>-0.062095</td>\n",
              "      <td>-0.12075</td>\n",
              "      <td>-0.10301</td>\n",
              "      <td>...</td>\n",
              "      <td>0.966370</td>\n",
              "      <td>1.106500</td>\n",
              "      <td>1.09190</td>\n",
              "      <td>1.302600</td>\n",
              "      <td>1.572700</td>\n",
              "      <td>1.73370</td>\n",
              "      <td>1.74060</td>\n",
              "      <td>1.71170</td>\n",
              "      <td>1.57930</td>\n",
              "      <td>1.51410</td>\n",
              "    </tr>\n",
              "    <tr>\n",
              "      <th>3</th>\n",
              "      <td>1</td>\n",
              "      <td>-0.17540</td>\n",
              "      <td>-0.12192</td>\n",
              "      <td>-0.053532</td>\n",
              "      <td>-0.024293</td>\n",
              "      <td>0.022917</td>\n",
              "      <td>0.116440</td>\n",
              "      <td>0.187040</td>\n",
              "      <td>0.24071</td>\n",
              "      <td>0.31434</td>\n",
              "      <td>...</td>\n",
              "      <td>-0.234150</td>\n",
              "      <td>-0.248470</td>\n",
              "      <td>-0.17759</td>\n",
              "      <td>-0.223010</td>\n",
              "      <td>-0.277270</td>\n",
              "      <td>-0.23328</td>\n",
              "      <td>-0.25261</td>\n",
              "      <td>-0.26422</td>\n",
              "      <td>-0.17639</td>\n",
              "      <td>-0.15493</td>\n",
              "    </tr>\n",
              "    <tr>\n",
              "      <th>4</th>\n",
              "      <td>0</td>\n",
              "      <td>0.17394</td>\n",
              "      <td>0.14885</td>\n",
              "      <td>0.178910</td>\n",
              "      <td>0.237310</td>\n",
              "      <td>0.276120</td>\n",
              "      <td>0.398650</td>\n",
              "      <td>0.463010</td>\n",
              "      <td>0.47182</td>\n",
              "      <td>0.55540</td>\n",
              "      <td>...</td>\n",
              "      <td>0.046535</td>\n",
              "      <td>0.001148</td>\n",
              "      <td>-0.00753</td>\n",
              "      <td>0.008211</td>\n",
              "      <td>-0.028456</td>\n",
              "      <td>0.04728</td>\n",
              "      <td>0.10666</td>\n",
              "      <td>0.16788</td>\n",
              "      <td>0.10543</td>\n",
              "      <td>0.20467</td>\n",
              "    </tr>\n",
              "  </tbody>\n",
              "</table>\n",
              "<p>5 rows × 141 columns</p>\n",
              "</div>\n",
              "      <button class=\"colab-df-convert\" onclick=\"convertToInteractive('df-4371b951-e784-46ce-9305-58ca48bfa162')\"\n",
              "              title=\"Convert this dataframe to an interactive table.\"\n",
              "              style=\"display:none;\">\n",
              "        \n",
              "  <svg xmlns=\"http://www.w3.org/2000/svg\" height=\"24px\"viewBox=\"0 0 24 24\"\n",
              "       width=\"24px\">\n",
              "    <path d=\"M0 0h24v24H0V0z\" fill=\"none\"/>\n",
              "    <path d=\"M18.56 5.44l.94 2.06.94-2.06 2.06-.94-2.06-.94-.94-2.06-.94 2.06-2.06.94zm-11 1L8.5 8.5l.94-2.06 2.06-.94-2.06-.94L8.5 2.5l-.94 2.06-2.06.94zm10 10l.94 2.06.94-2.06 2.06-.94-2.06-.94-.94-2.06-.94 2.06-2.06.94z\"/><path d=\"M17.41 7.96l-1.37-1.37c-.4-.4-.92-.59-1.43-.59-.52 0-1.04.2-1.43.59L10.3 9.45l-7.72 7.72c-.78.78-.78 2.05 0 2.83L4 21.41c.39.39.9.59 1.41.59.51 0 1.02-.2 1.41-.59l7.78-7.78 2.81-2.81c.8-.78.8-2.07 0-2.86zM5.41 20L4 18.59l7.72-7.72 1.47 1.35L5.41 20z\"/>\n",
              "  </svg>\n",
              "      </button>\n",
              "      \n",
              "  <style>\n",
              "    .colab-df-container {\n",
              "      display:flex;\n",
              "      flex-wrap:wrap;\n",
              "      gap: 12px;\n",
              "    }\n",
              "\n",
              "    .colab-df-convert {\n",
              "      background-color: #E8F0FE;\n",
              "      border: none;\n",
              "      border-radius: 50%;\n",
              "      cursor: pointer;\n",
              "      display: none;\n",
              "      fill: #1967D2;\n",
              "      height: 32px;\n",
              "      padding: 0 0 0 0;\n",
              "      width: 32px;\n",
              "    }\n",
              "\n",
              "    .colab-df-convert:hover {\n",
              "      background-color: #E2EBFA;\n",
              "      box-shadow: 0px 1px 2px rgba(60, 64, 67, 0.3), 0px 1px 3px 1px rgba(60, 64, 67, 0.15);\n",
              "      fill: #174EA6;\n",
              "    }\n",
              "\n",
              "    [theme=dark] .colab-df-convert {\n",
              "      background-color: #3B4455;\n",
              "      fill: #D2E3FC;\n",
              "    }\n",
              "\n",
              "    [theme=dark] .colab-df-convert:hover {\n",
              "      background-color: #434B5C;\n",
              "      box-shadow: 0px 1px 3px 1px rgba(0, 0, 0, 0.15);\n",
              "      filter: drop-shadow(0px 1px 2px rgba(0, 0, 0, 0.3));\n",
              "      fill: #FFFFFF;\n",
              "    }\n",
              "  </style>\n",
              "\n",
              "      <script>\n",
              "        const buttonEl =\n",
              "          document.querySelector('#df-4371b951-e784-46ce-9305-58ca48bfa162 button.colab-df-convert');\n",
              "        buttonEl.style.display =\n",
              "          google.colab.kernel.accessAllowed ? 'block' : 'none';\n",
              "\n",
              "        async function convertToInteractive(key) {\n",
              "          const element = document.querySelector('#df-4371b951-e784-46ce-9305-58ca48bfa162');\n",
              "          const dataTable =\n",
              "            await google.colab.kernel.invokeFunction('convertToInteractive',\n",
              "                                                     [key], {});\n",
              "          if (!dataTable) return;\n",
              "\n",
              "          const docLinkHtml = 'Like what you see? Visit the ' +\n",
              "            '<a target=\"_blank\" href=https://colab.research.google.com/notebooks/data_table.ipynb>data table notebook</a>'\n",
              "            + ' to learn more about interactive tables.';\n",
              "          element.innerHTML = '';\n",
              "          dataTable['output_type'] = 'display_data';\n",
              "          await google.colab.output.renderOutput(dataTable, element);\n",
              "          const docLink = document.createElement('div');\n",
              "          docLink.innerHTML = docLinkHtml;\n",
              "          element.appendChild(docLink);\n",
              "        }\n",
              "      </script>\n",
              "    </div>\n",
              "  </div>\n",
              "  "
            ]
          },
          "metadata": {},
          "execution_count": 4
        }
      ]
    },
    {
      "cell_type": "code",
      "source": [
        "transformed_df = {\"X_train\": [], \"Y_train\": [], \"X_test\": [], \"Y_test\": []}\n",
        "transformed_df[\"X_train\"] = dataset_train.drop(\"1\", axis=1)\n",
        "transformed_df[\"Y_train\"] = dataset_train[\"1\"]\n",
        "\n",
        "transformed_df[\"X_test\"] = dataset_train.drop(\"1\", axis=1)\n",
        "transformed_df[\"Y_test\"] = dataset_train[\"1\"]"
      ],
      "metadata": {
        "id": "QtpjzJJSJ0GP"
      },
      "execution_count": 5,
      "outputs": []
    },
    {
      "cell_type": "code",
      "metadata": {
        "id": "ZhXGvC_NzEgr"
      },
      "source": [
        "X_train, Y_train = np.array(transformed_df[\"X_train\"]), np.array(transformed_df[\"Y_train\"])\n",
        "X_test, Y_test = np.array(transformed_df[\"X_test\"]), np.array(transformed_df[\"Y_test\"])"
      ],
      "execution_count": 6,
      "outputs": []
    },
    {
      "cell_type": "code",
      "metadata": {
        "id": "Ck45eXMfzEgw"
      },
      "source": [
        "X_train = np.reshape(X_train, (X_train.shape[0], X_train.shape[1],1))\n",
        "Y_train = np.asarray(Y_train).astype('float32').reshape((-1,1))\n",
        "\n",
        "X_test = np.reshape(X_test, (X_test.shape[0], X_test.shape[1],1))\n",
        "Y_test = np.asarray(Y_test).astype('float32').reshape((-1,1))"
      ],
      "execution_count": 7,
      "outputs": []
    },
    {
      "cell_type": "code",
      "source": [
        "X_train.shape"
      ],
      "metadata": {
        "colab": {
          "base_uri": "https://localhost:8080/"
        },
        "id": "B-E5VPaMWyHH",
        "outputId": "d1181a5b-cbd9-4029-8b96-6972a024f7eb"
      },
      "execution_count": 8,
      "outputs": [
        {
          "output_type": "execute_result",
          "data": {
            "text/plain": [
              "(1621, 140, 1)"
            ]
          },
          "metadata": {},
          "execution_count": 8
        }
      ]
    },
    {
      "cell_type": "code",
      "source": [
        "def plot_graphs(history, string):\n",
        "    plt.plot(history.history[string])\n",
        "    plt.plot(history.history['val_'+string])\n",
        "    plt.xlabel(\"Epochs\")\n",
        "    plt.ylabel(string)\n",
        "    plt.legend([string, 'val_'+string])\n",
        "    plt.show()"
      ],
      "metadata": {
        "id": "PJK78m06nlT3"
      },
      "execution_count": 9,
      "outputs": []
    },
    {
      "cell_type": "code",
      "source": [
        "def plot_confusion_matrix(cm, classes, normalize=False, title='Confusion matrix', cmap=plt.cm.Blues):\n",
        "    \"\"\"\n",
        "    This function prints and plots the confusion matrix.\n",
        "    Normalization can be applied by setting `normalize=True`.\n",
        "    \"\"\"\n",
        "    plt.imshow(cm, interpolation='nearest', cmap=cmap)\n",
        "    plt.title(title)\n",
        "    plt.colorbar()\n",
        "    tick_marks = np.arange(len(classes))\n",
        "    plt.xticks(tick_marks, classes, rotation=45)\n",
        "    plt.yticks(tick_marks, classes)\n",
        "    \n",
        "    if normalize:\n",
        "        cm = cm.astype('float') / cm.sum(axis=1)[:, np.newaxis]\n",
        "        print(\"Normalized confusion matrix\")\n",
        "    else:\n",
        "        print('Confusion matrix, without normalization')\n",
        "\n",
        "    print(cm)\n",
        "\n",
        "\n",
        "    thresh = cm.max() / 2.\n",
        "    for i, j in itertools.product(range(cm.shape[0]), range(cm.shape[1])):\n",
        "        plt.text(j, i, \"{:.2f}%\".format(cm[i, j] * 100),\n",
        "                 horizontalalignment=\"center\",\n",
        "                 color=\"white\" if cm[i, j] > thresh else \"black\")\n",
        "\n",
        "    plt.tight_layout()\n",
        "    plt.ylabel('True label')\n",
        "    plt.xlabel('Predicted label')"
      ],
      "metadata": {
        "id": "bU1bfbfCniKr"
      },
      "execution_count": 10,
      "outputs": []
    },
    {
      "cell_type": "markdown",
      "metadata": {
        "id": "8HqpOldzxnh5"
      },
      "source": [
        "#**Part 2 - Building the RNN stacked lstm with dropout regularization to prevent overfitting**"
      ]
    },
    {
      "cell_type": "markdown",
      "source": [
        "# Simple RNN"
      ],
      "metadata": {
        "id": "rKQzi0a4BCIL"
      }
    },
    {
      "cell_type": "code",
      "source": [
        "model = keras.Sequential([\n",
        "    keras.layers.SimpleRNN(units=50, return_sequences= True),\n",
        "    keras.layers.Dropout(0.2),\n",
        "    keras.layers.SimpleRNN(units=50, return_sequences= True),\n",
        "    keras.layers.Dropout(0.2),\n",
        "    keras.layers.SimpleRNN(units=50, return_sequences= True),\n",
        "    keras.layers.Dropout(0.2),\n",
        "    keras.layers.Flatten(),\n",
        "    keras.layers.Dense(10, activation='relu'),\n",
        "    keras.layers.Dense(1, activation='sigmoid')\n",
        "])\n",
        "\n",
        "model.compile(loss='binary_crossentropy',\n",
        "              optimizer='adam',\n",
        "              metrics=['accuracy'])\n",
        "\n",
        "model.build(X_train.shape)\n",
        "model.summary()"
      ],
      "metadata": {
        "id": "a9GrKyHLBBY_",
        "colab": {
          "base_uri": "https://localhost:8080/"
        },
        "outputId": "d3fec97e-c296-493f-f2fc-9768e2e13519"
      },
      "execution_count": 24,
      "outputs": [
        {
          "output_type": "stream",
          "name": "stdout",
          "text": [
            "Model: \"sequential_2\"\n",
            "_________________________________________________________________\n",
            " Layer (type)                Output Shape              Param #   \n",
            "=================================================================\n",
            " simple_rnn (SimpleRNN)      (1621, 140, 50)           2600      \n",
            "                                                                 \n",
            " dropout_6 (Dropout)         (1621, 140, 50)           0         \n",
            "                                                                 \n",
            " simple_rnn_1 (SimpleRNN)    (1621, 140, 50)           5050      \n",
            "                                                                 \n",
            " dropout_7 (Dropout)         (1621, 140, 50)           0         \n",
            "                                                                 \n",
            " simple_rnn_2 (SimpleRNN)    (1621, 140, 50)           5050      \n",
            "                                                                 \n",
            " dropout_8 (Dropout)         (1621, 140, 50)           0         \n",
            "                                                                 \n",
            " flatten_2 (Flatten)         (1621, 7000)              0         \n",
            "                                                                 \n",
            " dense_4 (Dense)             (1621, 10)                70010     \n",
            "                                                                 \n",
            " dense_5 (Dense)             (1621, 1)                 11        \n",
            "                                                                 \n",
            "=================================================================\n",
            "Total params: 82,721\n",
            "Trainable params: 82,721\n",
            "Non-trainable params: 0\n",
            "_________________________________________________________________\n"
          ]
        }
      ]
    },
    {
      "cell_type": "code",
      "source": [
        "callback = keras.callbacks.EarlyStopping(monitor=\"val_loss\",\n",
        "    min_delta=0,\n",
        "    patience=3,\n",
        "    verbose=1,\n",
        "    mode=\"auto\",\n",
        "    baseline=None,\n",
        "    restore_best_weights=True)\n",
        "\n",
        "history_rnn = model.fit(x=X_train,y=Y_train, validation_split=0.20, batch_size=32, epochs=30, verbose=2, callbacks=[callback])"
      ],
      "metadata": {
        "colab": {
          "base_uri": "https://localhost:8080/"
        },
        "id": "cNDwiOyhD3JN",
        "outputId": "b8f1ee7b-98f5-47d7-8871-13c3cdc196bc"
      },
      "execution_count": 25,
      "outputs": [
        {
          "output_type": "stream",
          "name": "stdout",
          "text": [
            "Epoch 1/30\n",
            "41/41 - 16s - loss: 0.3884 - accuracy: 0.8634 - val_loss: 0.2271 - val_accuracy: 0.9169 - 16s/epoch - 400ms/step\n",
            "Epoch 2/30\n",
            "41/41 - 14s - loss: 0.1747 - accuracy: 0.9390 - val_loss: 0.1233 - val_accuracy: 0.9569 - 14s/epoch - 349ms/step\n",
            "Epoch 3/30\n",
            "41/41 - 14s - loss: 0.1227 - accuracy: 0.9475 - val_loss: 0.1513 - val_accuracy: 0.9477 - 14s/epoch - 344ms/step\n",
            "Epoch 4/30\n",
            "41/41 - 14s - loss: 0.0881 - accuracy: 0.9583 - val_loss: 0.0911 - val_accuracy: 0.9631 - 14s/epoch - 339ms/step\n",
            "Epoch 5/30\n",
            "41/41 - 14s - loss: 0.0632 - accuracy: 0.9738 - val_loss: 0.1307 - val_accuracy: 0.9538 - 14s/epoch - 336ms/step\n",
            "Epoch 6/30\n",
            "41/41 - 14s - loss: 0.0512 - accuracy: 0.9761 - val_loss: 0.1133 - val_accuracy: 0.9600 - 14s/epoch - 342ms/step\n",
            "Epoch 7/30\n",
            "41/41 - 14s - loss: 0.0539 - accuracy: 0.9792 - val_loss: 0.0856 - val_accuracy: 0.9785 - 14s/epoch - 339ms/step\n",
            "Epoch 8/30\n",
            "41/41 - 14s - loss: 0.0887 - accuracy: 0.9738 - val_loss: 0.0549 - val_accuracy: 0.9754 - 14s/epoch - 350ms/step\n",
            "Epoch 9/30\n",
            "41/41 - 14s - loss: 0.0380 - accuracy: 0.9869 - val_loss: 0.0812 - val_accuracy: 0.9785 - 14s/epoch - 348ms/step\n",
            "Epoch 10/30\n",
            "41/41 - 14s - loss: 0.0251 - accuracy: 0.9938 - val_loss: 0.0875 - val_accuracy: 0.9785 - 14s/epoch - 348ms/step\n",
            "Epoch 11/30\n",
            "41/41 - 14s - loss: 0.0322 - accuracy: 0.9884 - val_loss: 0.0537 - val_accuracy: 0.9692 - 14s/epoch - 339ms/step\n",
            "Epoch 12/30\n",
            "41/41 - 14s - loss: 0.0116 - accuracy: 0.9985 - val_loss: 0.0626 - val_accuracy: 0.9815 - 14s/epoch - 343ms/step\n",
            "Epoch 13/30\n",
            "41/41 - 14s - loss: 0.0070 - accuracy: 0.9985 - val_loss: 0.0316 - val_accuracy: 0.9877 - 14s/epoch - 342ms/step\n",
            "Epoch 14/30\n",
            "41/41 - 14s - loss: 0.0033 - accuracy: 1.0000 - val_loss: 0.0297 - val_accuracy: 0.9908 - 14s/epoch - 348ms/step\n",
            "Epoch 15/30\n",
            "41/41 - 14s - loss: 0.0016 - accuracy: 1.0000 - val_loss: 0.0305 - val_accuracy: 0.9908 - 14s/epoch - 339ms/step\n",
            "Epoch 16/30\n",
            "41/41 - 14s - loss: 0.0010 - accuracy: 1.0000 - val_loss: 0.0291 - val_accuracy: 0.9908 - 14s/epoch - 343ms/step\n",
            "Epoch 17/30\n",
            "41/41 - 15s - loss: 8.7399e-04 - accuracy: 1.0000 - val_loss: 0.0315 - val_accuracy: 0.9908 - 15s/epoch - 355ms/step\n",
            "Epoch 18/30\n",
            "41/41 - 14s - loss: 7.7088e-04 - accuracy: 1.0000 - val_loss: 0.0350 - val_accuracy: 0.9877 - 14s/epoch - 344ms/step\n",
            "Epoch 19/30\n",
            "Restoring model weights from the end of the best epoch: 16.\n",
            "41/41 - 14s - loss: 8.6167e-04 - accuracy: 1.0000 - val_loss: 0.0388 - val_accuracy: 0.9908 - 14s/epoch - 339ms/step\n",
            "Epoch 19: early stopping\n"
          ]
        }
      ]
    },
    {
      "cell_type": "code",
      "source": [
        "plot_graphs(history_rnn, 'accuracy')\n",
        "plot_graphs(history_rnn, 'loss')"
      ],
      "metadata": {
        "colab": {
          "base_uri": "https://localhost:8080/",
          "height": 541
        },
        "id": "GqrGkIT2MnDa",
        "outputId": "f459f175-8532-416c-8342-bb6c8c92bbe4"
      },
      "execution_count": 26,
      "outputs": [
        {
          "output_type": "display_data",
          "data": {
            "text/plain": [
              "<Figure size 432x288 with 1 Axes>"
            ],
            "image/png": "[encoded data removed]"
          },
          "metadata": {
            "needs_background": "light"
          }
        },
        {
          "output_type": "display_data",
          "data": {
            "text/plain": [
              "<Figure size 432x288 with 1 Axes>"
            ],
            "image/png": "[encoded data removed]"
          },
          "metadata": {
            "needs_background": "light"
          }
        }
      ]
    },
    {
      "cell_type": "code",
      "source": [
        "predictions_rnn = model.predict(x=X_test, verbose=0)\n",
        "\n",
        "cm = confusion_matrix(y_true=Y_test, y_pred=np.round(predictions_rnn))\n",
        "cm_plot_labels = ['Disease (Yes)', 'Disease (No)']\n",
        "\n",
        "plot_confusion_matrix(cm, cm_plot_labels, title='Confusion matrix', normalize= True)"
      ],
      "metadata": {
        "colab": {
          "base_uri": "https://localhost:8080/",
          "height": 365
        },
        "id": "hsUGM4yFoohj",
        "outputId": "85b75367-2584-4a20-d3c9-79901adc101b"
      },
      "execution_count": 27,
      "outputs": [
        {
          "output_type": "stream",
          "name": "stdout",
          "text": [
            "Normalized confusion matrix\n",
            "[[0.99891186 0.00108814]\n",
            " [0.002849   0.997151  ]]\n"
          ]
        },
        {
          "output_type": "display_data",
          "data": {
            "text/plain": [
              "<Figure size 432x288 with 2 Axes>"
            ],
            "image/png": "[encoded data removed]"
          },
          "metadata": {
            "needs_background": "light"
          }
        }
      ]
    },
    {
      "cell_type": "code",
      "source": [
        "RocCurveDisplay.from_predictions(Y_test, np.round(predictions_rnn))"
      ],
      "metadata": {
        "colab": {
          "base_uri": "https://localhost:8080/",
          "height": 297
        },
        "id": "EVTI4AsWMj1i",
        "outputId": "18455e10-bb8e-4a5f-aeea-8200b835628e"
      },
      "execution_count": 28,
      "outputs": [
        {
          "output_type": "execute_result",
          "data": {
            "text/plain": [
              "<sklearn.metrics._plot.roc_curve.RocCurveDisplay at 0x7fe7d13095d0>"
            ]
          },
          "metadata": {},
          "execution_count": 28
        },
        {
          "output_type": "display_data",
          "data": {
            "text/plain": [
              "<Figure size 432x288 with 1 Axes>"
            ],
            "image/png": "[encoded data removed]"
          },
          "metadata": {
            "needs_background": "light"
          }
        }
      ]
    },
    {
      "cell_type": "code",
      "source": [
        "from sklearn import metrics\n",
        "\n",
        "print(metrics.classification_report(Y_test, np.round(predictions_rnn), target_names=cm_plot_labels))"
      ],
      "metadata": {
        "colab": {
          "base_uri": "https://localhost:8080/"
        },
        "id": "c-EFnngapLtA",
        "outputId": "f94195d4-e6db-403a-9f73-3b4c944e1c0a"
      },
      "execution_count": 29,
      "outputs": [
        {
          "output_type": "stream",
          "name": "stdout",
          "text": [
            "               precision    recall  f1-score   support\n",
            "\n",
            "Disease (Yes)       1.00      1.00      1.00       919\n",
            " Disease (No)       1.00      1.00      1.00       702\n",
            "\n",
            "     accuracy                           1.00      1621\n",
            "    macro avg       1.00      1.00      1.00      1621\n",
            " weighted avg       1.00      1.00      1.00      1621\n",
            "\n"
          ]
        }
      ]
    },
    {
      "cell_type": "markdown",
      "source": [
        "# Gated Recurrent Unit (GRU)\n",
        "This is an improved version of the RNN model. It is more efficient than SimpleRNN models. It has two gates: reset and update. For this demonstration, I will replace the SimpleRNN layer with a bidirectional GRU layer with the same number of units."
      ],
      "metadata": {
        "id": "9xoRAcJQNPjp"
      }
    },
    {
      "cell_type": "code",
      "source": [
        "model = keras.Sequential([\n",
        "    keras.layers.Bidirectional(keras.layers.GRU(units=50, return_sequences= True)),\n",
        "    keras.layers.Dropout(0.2),\n",
        "    keras.layers.Bidirectional(keras.layers.GRU(units=50, return_sequences= True)),\n",
        "    keras.layers.Dropout(0.2),\n",
        "    keras.layers.Bidirectional(keras.layers.GRU(units=50, return_sequences= True)),\n",
        "    keras.layers.Dropout(0.2),\n",
        "    keras.layers.Flatten(),\n",
        "    keras.layers.Dense(10, activation='relu'),\n",
        "    keras.layers.Dense(1, activation='sigmoid')\n",
        "])\n",
        "\n",
        "model.compile(loss='binary_crossentropy',\n",
        "              optimizer='adam',\n",
        "              metrics=['accuracy'])\n",
        "\n",
        "model.build(X_train.shape)\n",
        "model.summary()"
      ],
      "metadata": {
        "colab": {
          "base_uri": "https://localhost:8080/"
        },
        "id": "IXZVFBFzNWTs",
        "outputId": "c9aa421d-e92f-4dd9-f90b-57261d4c117a"
      },
      "execution_count": 11,
      "outputs": [
        {
          "output_type": "stream",
          "name": "stdout",
          "text": [
            "Model: \"sequential\"\n",
            "_________________________________________________________________\n",
            " Layer (type)                Output Shape              Param #   \n",
            "=================================================================\n",
            " bidirectional (Bidirectiona  (1621, 140, 100)         15900     \n",
            " l)                                                              \n",
            "                                                                 \n",
            " dropout (Dropout)           (1621, 140, 100)          0         \n",
            "                                                                 \n",
            " bidirectional_1 (Bidirectio  (1621, 140, 100)         45600     \n",
            " nal)                                                            \n",
            "                                                                 \n",
            " dropout_1 (Dropout)         (1621, 140, 100)          0         \n",
            "                                                                 \n",
            " bidirectional_2 (Bidirectio  (1621, 140, 100)         45600     \n",
            " nal)                                                            \n",
            "                                                                 \n",
            " dropout_2 (Dropout)         (1621, 140, 100)          0         \n",
            "                                                                 \n",
            " flatten (Flatten)           (1621, 14000)             0         \n",
            "                                                                 \n",
            " dense (Dense)               (1621, 10)                140010    \n",
            "                                                                 \n",
            " dense_1 (Dense)             (1621, 1)                 11        \n",
            "                                                                 \n",
            "=================================================================\n",
            "Total params: 247,121\n",
            "Trainable params: 247,121\n",
            "Non-trainable params: 0\n",
            "_________________________________________________________________\n"
          ]
        }
      ]
    },
    {
      "cell_type": "code",
      "source": [
        "callback = keras.callbacks.EarlyStopping(monitor=\"val_loss\",\n",
        "    min_delta=0,\n",
        "    patience=3,\n",
        "    verbose=1,\n",
        "    mode=\"auto\",\n",
        "    baseline=None,\n",
        "    restore_best_weights=True)\n",
        "\n",
        "history_gru = model.fit(x=X_train,y=Y_train, validation_split=0.20, batch_size=32, epochs=30, verbose=2, callbacks=[callback])"
      ],
      "metadata": {
        "colab": {
          "base_uri": "https://localhost:8080/"
        },
        "id": "Qj7DYIZiNlLW",
        "outputId": "68a449ae-8dcd-4e91-c4f1-eaf5834bd6ff"
      },
      "execution_count": 12,
      "outputs": [
        {
          "output_type": "stream",
          "name": "stdout",
          "text": [
            "Epoch 1/30\n",
            "41/41 - 17s - loss: 0.3814 - accuracy: 0.8434 - val_loss: 0.1591 - val_accuracy: 0.9446 - 17s/epoch - 425ms/step\n",
            "Epoch 2/30\n",
            "41/41 - 1s - loss: 0.1128 - accuracy: 0.9576 - val_loss: 0.1712 - val_accuracy: 0.9477 - 1s/epoch - 33ms/step\n",
            "Epoch 3/30\n",
            "41/41 - 1s - loss: 0.0690 - accuracy: 0.9745 - val_loss: 0.1171 - val_accuracy: 0.9723 - 1s/epoch - 33ms/step\n",
            "Epoch 4/30\n",
            "41/41 - 1s - loss: 0.0311 - accuracy: 0.9907 - val_loss: 0.0821 - val_accuracy: 0.9754 - 1s/epoch - 32ms/step\n",
            "Epoch 5/30\n",
            "41/41 - 1s - loss: 0.0158 - accuracy: 0.9961 - val_loss: 0.0858 - val_accuracy: 0.9846 - 1s/epoch - 33ms/step\n",
            "Epoch 6/30\n",
            "41/41 - 1s - loss: 0.0158 - accuracy: 0.9961 - val_loss: 0.0959 - val_accuracy: 0.9846 - 1s/epoch - 32ms/step\n",
            "Epoch 7/30\n",
            "41/41 - 1s - loss: 0.0052 - accuracy: 0.9977 - val_loss: 0.0665 - val_accuracy: 0.9815 - 1s/epoch - 33ms/step\n",
            "Epoch 8/30\n",
            "41/41 - 1s - loss: 0.0064 - accuracy: 0.9977 - val_loss: 0.0666 - val_accuracy: 0.9846 - 1s/epoch - 32ms/step\n",
            "Epoch 9/30\n",
            "41/41 - 1s - loss: 0.0153 - accuracy: 0.9938 - val_loss: 0.1184 - val_accuracy: 0.9723 - 1s/epoch - 32ms/step\n",
            "Epoch 10/30\n",
            "41/41 - 1s - loss: 0.0313 - accuracy: 0.9884 - val_loss: 0.0515 - val_accuracy: 0.9815 - 1s/epoch - 32ms/step\n",
            "Epoch 11/30\n",
            "41/41 - 1s - loss: 0.0060 - accuracy: 0.9977 - val_loss: 0.0619 - val_accuracy: 0.9846 - 1s/epoch - 32ms/step\n",
            "Epoch 12/30\n",
            "41/41 - 1s - loss: 0.0024 - accuracy: 0.9992 - val_loss: 0.0843 - val_accuracy: 0.9908 - 1s/epoch - 36ms/step\n",
            "Epoch 13/30\n",
            "Restoring model weights from the end of the best epoch: 10.\n",
            "41/41 - 2s - loss: 4.0264e-04 - accuracy: 1.0000 - val_loss: 0.0678 - val_accuracy: 0.9908 - 2s/epoch - 40ms/step\n",
            "Epoch 13: early stopping\n"
          ]
        }
      ]
    },
    {
      "cell_type": "code",
      "source": [
        "plot_graphs(history_gru, 'accuracy')\n",
        "plot_graphs(history_gru, 'loss')"
      ],
      "metadata": {
        "colab": {
          "base_uri": "https://localhost:8080/",
          "height": 545
        },
        "id": "rg1erBafNxq9",
        "outputId": "4419de17-bca8-4c86-a00c-517164fbe3cf"
      },
      "execution_count": 13,
      "outputs": [
        {
          "output_type": "display_data",
          "data": {
            "text/plain": [
              "<Figure size 432x288 with 1 Axes>"
            ],
            "image/png": "[encoded data removed]"
          },
          "metadata": {
            "needs_background": "light"
          }
        },
        {
          "output_type": "display_data",
          "data": {
            "text/plain": [
              "<Figure size 432x288 with 1 Axes>"
            ],
            "image/png": "[encoded data removed]"
          },
          "metadata": {
            "needs_background": "light"
          }
        }
      ]
    },
    {
      "cell_type": "code",
      "source": [
        "predictions_gru = model.predict(x=X_test, verbose=0)\n",
        "\n",
        "cm = confusion_matrix(y_true=Y_test, y_pred=np.round(predictions_gru))\n",
        "cm_plot_labels = ['Disease (Yes)', 'Disease (No)']\n",
        "\n",
        "plot_confusion_matrix(cm, cm_plot_labels, title='Confusion matrix', normalize= True)"
      ],
      "metadata": {
        "colab": {
          "base_uri": "https://localhost:8080/",
          "height": 365
        },
        "id": "fHQ05v9iorWK",
        "outputId": "3089373d-b3a7-4690-c0ac-7bb89c6f0151"
      },
      "execution_count": 14,
      "outputs": [
        {
          "output_type": "stream",
          "name": "stdout",
          "text": [
            "Normalized confusion matrix\n",
            "[[0.99782372 0.00217628]\n",
            " [0.01566952 0.98433048]]\n"
          ]
        },
        {
          "output_type": "display_data",
          "data": {
            "text/plain": [
              "<Figure size 432x288 with 2 Axes>"
            ],
            "image/png": "[encoded data removed]"
          },
          "metadata": {
            "needs_background": "light"
          }
        }
      ]
    },
    {
      "cell_type": "code",
      "source": [
        "RocCurveDisplay.from_predictions(Y_test, np.round(predictions_gru))"
      ],
      "metadata": {
        "colab": {
          "base_uri": "https://localhost:8080/",
          "height": 297
        },
        "id": "THOd1RjqM_V-",
        "outputId": "05b20b3b-837f-4997-fe94-8c2f46d60f1d"
      },
      "execution_count": 15,
      "outputs": [
        {
          "output_type": "execute_result",
          "data": {
            "text/plain": [
              "<sklearn.metrics._plot.roc_curve.RocCurveDisplay at 0x7fe7d0f78dd0>"
            ]
          },
          "metadata": {},
          "execution_count": 15
        },
        {
          "output_type": "display_data",
          "data": {
            "text/plain": [
              "<Figure size 432x288 with 1 Axes>"
            ],
            "image/png": "[encoded data removed]"
          },
          "metadata": {
            "needs_background": "light"
          }
        }
      ]
    },
    {
      "cell_type": "code",
      "source": [
        "from sklearn import metrics\n",
        "\n",
        "print(metrics.classification_report(Y_test, np.round(predictions_gru), target_names=cm_plot_labels))"
      ],
      "metadata": {
        "colab": {
          "base_uri": "https://localhost:8080/"
        },
        "id": "I3wEGsBQpKdH",
        "outputId": "8962bb6b-1c5b-465d-ccd6-06cbcc724e9d"
      },
      "execution_count": 16,
      "outputs": [
        {
          "output_type": "stream",
          "name": "stdout",
          "text": [
            "               precision    recall  f1-score   support\n",
            "\n",
            "Disease (Yes)       0.99      1.00      0.99       919\n",
            " Disease (No)       1.00      0.98      0.99       702\n",
            "\n",
            "     accuracy                           0.99      1621\n",
            "    macro avg       0.99      0.99      0.99      1621\n",
            " weighted avg       0.99      0.99      0.99      1621\n",
            "\n"
          ]
        }
      ]
    },
    {
      "cell_type": "markdown",
      "source": [
        "# Bidirectional LSTM"
      ],
      "metadata": {
        "id": "VXmdi91_YZRy"
      }
    },
    {
      "cell_type": "code",
      "source": [
        "model = keras.Sequential([\n",
        "    keras.layers.Bidirectional(keras.layers.LSTM(units=50, return_sequences= True)),\n",
        "    keras.layers.Dropout(0.2),\n",
        "    keras.layers.Bidirectional(keras.layers.LSTM(units=50, return_sequences= True)),\n",
        "    keras.layers.Dropout(0.2),\n",
        "    keras.layers.Bidirectional(keras.layers.LSTM(units=50, return_sequences= True)),\n",
        "    keras.layers.Dropout(0.2),\n",
        "    keras.layers.Flatten(),\n",
        "    keras.layers.Dense(10, activation='relu'),\n",
        "    keras.layers.Dense(1, activation='sigmoid')\n",
        "])\n",
        "\n",
        "model.compile(loss='binary_crossentropy',\n",
        "              optimizer='adam',\n",
        "              metrics=['accuracy'])\n",
        "\n",
        "model.build(X_train.shape)\n",
        "model.summary()"
      ],
      "metadata": {
        "colab": {
          "base_uri": "https://localhost:8080/"
        },
        "id": "qNj0j9crYcLo",
        "outputId": "7a5c1b5e-891b-48cb-8145-16cdd166d236"
      },
      "execution_count": 17,
      "outputs": [
        {
          "output_type": "stream",
          "name": "stdout",
          "text": [
            "Model: \"sequential_1\"\n",
            "_________________________________________________________________\n",
            " Layer (type)                Output Shape              Param #   \n",
            "=================================================================\n",
            " bidirectional_3 (Bidirectio  (1621, 140, 100)         20800     \n",
            " nal)                                                            \n",
            "                                                                 \n",
            " dropout_3 (Dropout)         (1621, 140, 100)          0         \n",
            "                                                                 \n",
            " bidirectional_4 (Bidirectio  (1621, 140, 100)         60400     \n",
            " nal)                                                            \n",
            "                                                                 \n",
            " dropout_4 (Dropout)         (1621, 140, 100)          0         \n",
            "                                                                 \n",
            " bidirectional_5 (Bidirectio  (1621, 140, 100)         60400     \n",
            " nal)                                                            \n",
            "                                                                 \n",
            " dropout_5 (Dropout)         (1621, 140, 100)          0         \n",
            "                                                                 \n",
            " flatten_1 (Flatten)         (1621, 14000)             0         \n",
            "                                                                 \n",
            " dense_2 (Dense)             (1621, 10)                140010    \n",
            "                                                                 \n",
            " dense_3 (Dense)             (1621, 1)                 11        \n",
            "                                                                 \n",
            "=================================================================\n",
            "Total params: 281,621\n",
            "Trainable params: 281,621\n",
            "Non-trainable params: 0\n",
            "_________________________________________________________________\n"
          ]
        }
      ]
    },
    {
      "cell_type": "code",
      "source": [
        "callback = keras.callbacks.EarlyStopping(monitor=\"val_loss\",\n",
        "    min_delta=0,\n",
        "    patience=3,\n",
        "    verbose=1,\n",
        "    mode=\"auto\",\n",
        "    baseline=None,\n",
        "    restore_best_weights=True)\n",
        "\n",
        "history_bi_lstm = model.fit(x=X_train,y=Y_train, validation_split=0.20, batch_size=32, epochs=30, verbose=2, callbacks=[callback])"
      ],
      "metadata": {
        "colab": {
          "base_uri": "https://localhost:8080/"
        },
        "id": "uwRDVFyaYeAu",
        "outputId": "b24e25b2-4901-4c4c-aabc-a6cea39f4b97"
      },
      "execution_count": 18,
      "outputs": [
        {
          "output_type": "stream",
          "name": "stdout",
          "text": [
            "Epoch 1/30\n",
            "41/41 - 14s - loss: 0.4179 - accuracy: 0.8125 - val_loss: 0.2088 - val_accuracy: 0.9446 - 14s/epoch - 331ms/step\n",
            "Epoch 2/30\n",
            "41/41 - 2s - loss: 0.1190 - accuracy: 0.9591 - val_loss: 0.1850 - val_accuracy: 0.9415 - 2s/epoch - 38ms/step\n",
            "Epoch 3/30\n",
            "41/41 - 2s - loss: 0.0642 - accuracy: 0.9823 - val_loss: 0.0823 - val_accuracy: 0.9723 - 2s/epoch - 38ms/step\n",
            "Epoch 4/30\n",
            "41/41 - 2s - loss: 0.0201 - accuracy: 0.9923 - val_loss: 0.0719 - val_accuracy: 0.9785 - 2s/epoch - 38ms/step\n",
            "Epoch 5/30\n",
            "41/41 - 2s - loss: 0.0192 - accuracy: 0.9954 - val_loss: 0.0537 - val_accuracy: 0.9815 - 2s/epoch - 38ms/step\n",
            "Epoch 6/30\n",
            "41/41 - 2s - loss: 0.0139 - accuracy: 0.9969 - val_loss: 0.0464 - val_accuracy: 0.9908 - 2s/epoch - 37ms/step\n",
            "Epoch 7/30\n",
            "41/41 - 2s - loss: 0.0092 - accuracy: 0.9977 - val_loss: 0.0473 - val_accuracy: 0.9846 - 2s/epoch - 37ms/step\n",
            "Epoch 8/30\n",
            "41/41 - 2s - loss: 0.0096 - accuracy: 0.9969 - val_loss: 0.0677 - val_accuracy: 0.9754 - 2s/epoch - 37ms/step\n",
            "Epoch 9/30\n",
            "Restoring model weights from the end of the best epoch: 6.\n",
            "41/41 - 2s - loss: 0.0229 - accuracy: 0.9946 - val_loss: 0.0814 - val_accuracy: 0.9815 - 2s/epoch - 38ms/step\n",
            "Epoch 9: early stopping\n"
          ]
        }
      ]
    },
    {
      "cell_type": "code",
      "source": [
        "plot_graphs(history_bi_lstm, 'accuracy')\n",
        "plot_graphs(history_bi_lstm, 'loss')"
      ],
      "metadata": {
        "colab": {
          "base_uri": "https://localhost:8080/",
          "height": 541
        },
        "id": "4c5JOUpL4voG",
        "outputId": "4e2fe230-14b7-432f-aa34-50b731243029"
      },
      "execution_count": 20,
      "outputs": [
        {
          "output_type": "display_data",
          "data": {
            "text/plain": [
              "<Figure size 432x288 with 1 Axes>"
            ],
            "image/png": "[encoded data removed]"
          },
          "metadata": {
            "needs_background": "light"
          }
        },
        {
          "output_type": "display_data",
          "data": {
            "text/plain": [
              "<Figure size 432x288 with 1 Axes>"
            ],
            "image/png": "[encoded data removed]"
          },
          "metadata": {
            "needs_background": "light"
          }
        }
      ]
    },
    {
      "cell_type": "markdown",
      "source": [
        "# Plot Confusion Matrix"
      ],
      "metadata": {
        "id": "6JMzodqI5_iE"
      }
    },
    {
      "cell_type": "code",
      "source": [
        "predictions_bi_lstm = model.predict(x=X_test, verbose=0)\n",
        "\n",
        "cm = confusion_matrix(y_true=Y_test, y_pred=np.round(predictions_bi_lstm))\n",
        "cm_plot_labels = ['Disease (Yes)', 'Disease (No)']\n",
        "\n",
        "plot_confusion_matrix(cm, cm_plot_labels, title='Confusion matrix', normalize= True)"
      ],
      "metadata": {
        "colab": {
          "base_uri": "https://localhost:8080/",
          "height": 365
        },
        "id": "qmSAimC45aH3",
        "outputId": "8ee136e7-adc7-4a3f-a6e1-9d01c1f5ffef"
      },
      "execution_count": 21,
      "outputs": [
        {
          "output_type": "stream",
          "name": "stdout",
          "text": [
            "Normalized confusion matrix\n",
            "[[0.99673558 0.00326442]\n",
            " [0.002849   0.997151  ]]\n"
          ]
        },
        {
          "output_type": "display_data",
          "data": {
            "text/plain": [
              "<Figure size 432x288 with 2 Axes>"
            ],
            "image/png": "[encoded data removed]"
          },
          "metadata": {
            "needs_background": "light"
          }
        }
      ]
    },
    {
      "cell_type": "code",
      "source": [
        "RocCurveDisplay.from_predictions(Y_test, np.round(predictions_bi_lstm))"
      ],
      "metadata": {
        "colab": {
          "base_uri": "https://localhost:8080/",
          "height": 297
        },
        "id": "cQby9FcKNQ5r",
        "outputId": "5736d349-4c9c-4d44-d4da-507331f6c08b"
      },
      "execution_count": 22,
      "outputs": [
        {
          "output_type": "execute_result",
          "data": {
            "text/plain": [
              "<sklearn.metrics._plot.roc_curve.RocCurveDisplay at 0x7fe7cfceac50>"
            ]
          },
          "metadata": {},
          "execution_count": 22
        },
        {
          "output_type": "display_data",
          "data": {
            "text/plain": [
              "<Figure size 432x288 with 1 Axes>"
            ],
            "image/png": "[encoded data removed]"
          },
          "metadata": {
            "needs_background": "light"
          }
        }
      ]
    },
    {
      "cell_type": "markdown",
      "source": [
        "# Model Evaluation"
      ],
      "metadata": {
        "id": "aJA2I78u5NOW"
      }
    },
    {
      "cell_type": "code",
      "source": [
        "from sklearn import metrics\n",
        "\n",
        "print(metrics.classification_report(Y_test, np.round(predictions_bi_lstm), target_names=cm_plot_labels))"
      ],
      "metadata": {
        "colab": {
          "base_uri": "https://localhost:8080/"
        },
        "id": "0u3oTcDs5InF",
        "outputId": "96bd6aee-dc3c-432a-e825-1839c7abed92"
      },
      "execution_count": 23,
      "outputs": [
        {
          "output_type": "stream",
          "name": "stdout",
          "text": [
            "               precision    recall  f1-score   support\n",
            "\n",
            "Disease (Yes)       1.00      1.00      1.00       919\n",
            " Disease (No)       1.00      1.00      1.00       702\n",
            "\n",
            "     accuracy                           1.00      1621\n",
            "    macro avg       1.00      1.00      1.00      1621\n",
            " weighted avg       1.00      1.00      1.00      1621\n",
            "\n"
          ]
        }
      ]
    }
  ]
}